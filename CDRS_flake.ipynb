{
  "nbformat": 4,
  "nbformat_minor": 0,
  "metadata": {
    "colab": {
      "provenance": [],
      "authorship_tag": "ABX9TyNDxaBLC14h6CawDGw1uwnT",
      "include_colab_link": true
    },
    "kernelspec": {
      "name": "python3",
      "display_name": "Python 3"
    },
    "language_info": {
      "name": "python"
    }
  },
  "cells": [
    {
      "cell_type": "markdown",
      "metadata": {
        "id": "view-in-github",
        "colab_type": "text"
      },
      "source": [
        "<a href=\"https://colab.research.google.com/github/Shubham8452/SMOTE---ML-Technique/blob/main/CDRS_flake.ipynb\" target=\"_parent\"><img src=\"https://colab.research.google.com/assets/colab-badge.svg\" alt=\"Open In Colab\"/></a>"
      ]
    },
    {
      "cell_type": "code",
      "execution_count": 3,
      "metadata": {
        "colab": {
          "base_uri": "https://localhost:8080/"
        },
        "id": "v-yVeXJT2JeP",
        "outputId": "c2bc55f8-47bb-4cb7-bc8f-116726d6898b"
      },
      "outputs": [
        {
          "output_type": "stream",
          "name": "stdout",
          "text": [
            "Requirement already satisfied: flake8 in /usr/local/lib/python3.11/dist-packages (7.1.1)\n",
            "Requirement already satisfied: mccabe<0.8.0,>=0.7.0 in /usr/local/lib/python3.11/dist-packages (from flake8) (0.7.0)\n",
            "Requirement already satisfied: pycodestyle<2.13.0,>=2.12.0 in /usr/local/lib/python3.11/dist-packages (from flake8) (2.12.1)\n",
            "Requirement already satisfied: pyflakes<3.3.0,>=3.2.0 in /usr/local/lib/python3.11/dist-packages (from flake8) (3.2.0)\n"
          ]
        }
      ],
      "source": [
        "!pip install flake8\n"
      ]
    },
    {
      "cell_type": "code",
      "source": [
        "import os\n",
        "import subprocess\n",
        "import openai\n",
        "import time  # Import the time module for sleep\n",
        "import flake8\n",
        "\n",
        "openai.api_key = os.getenv(\"OPENAI_API_KEY\")\n",
        "\n",
        "\n",
        "def analyze_code_with_flake8(code_path):\n",
        "    \"\"\"\n",
        "    Analyze the code using flake8 and return a list of issues.\n",
        "    \"\"\"\n",
        "    # Run flake8 and capture the output\n",
        "    result = subprocess.run(\n",
        "        [\"flake8\", code_path], capture_output=True, text=True\n",
        "    )\n",
        "\n",
        "    # Parse the output and extract issues\n",
        "    issues = []\n",
        "    for line in result.stdout.splitlines():\n",
        "        if line.strip():  # Skip empty lines\n",
        "            issues.append(line)\n",
        "\n",
        "    return issues\n"
      ],
      "metadata": {
        "id": "tQv95M3t4ske"
      },
      "execution_count": 12,
      "outputs": []
    },
    {
      "cell_type": "code",
      "source": [
        "def review_code(code_path):\n",
        "    \"\"\"\n",
        "    Perform code review on a given file.\n",
        "    \"\"\"\n",
        "    # Step 1: Read the code\n",
        "    with open(code_path, \"r\") as file:\n",
        "        code = file.read()\n",
        "\n",
        "    # Step 2: Analyze code using flake8\n",
        "    issues = analyze_code_with_flake8(code_path)\n",
        "    if not issues:\n",
        "        print(\"No issues found by static code analysis. Great job!\")\n",
        "        return\n",
        "\n",
        "    print(\"Issues found by static code analysis:\")\n",
        "    for issue in issues:\n",
        "        print(issue)\n",
        "\n",
        "\n",
        "if __name__ == \"__main__\":\n",
        "    # Path to the code file to review\n",
        "    code_file = \"pypy.py\"  # Replace with your file path\n",
        "    review_code(code_file)"
      ],
      "metadata": {
        "colab": {
          "base_uri": "https://localhost:8080/"
        },
        "id": "2Jhx_4pX2WAw",
        "outputId": "7a026ddf-989d-4913-91c4-fc31886ad1da"
      },
      "execution_count": 13,
      "outputs": [
        {
          "output_type": "stream",
          "name": "stdout",
          "text": [
            "Issues found by static code analysis:\n",
            "pypy.py:7:1: F821 undefined name 'prin'\n"
          ]
        }
      ]
    }
  ]
}