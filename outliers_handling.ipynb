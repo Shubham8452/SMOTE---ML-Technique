{
  "nbformat": 4,
  "nbformat_minor": 0,
  "metadata": {
    "colab": {
      "provenance": [],
      "authorship_tag": "ABX9TyMzokxTXpsqKoBEu/YiY1mh",
      "include_colab_link": true
    },
    "kernelspec": {
      "name": "python3",
      "display_name": "Python 3"
    },
    "language_info": {
      "name": "python"
    }
  },
  "cells": [
    {
      "cell_type": "markdown",
      "metadata": {
        "id": "view-in-github",
        "colab_type": "text"
      },
      "source": [
        "<a href=\"https://colab.research.google.com/github/Shubham8452/SMOTE---ML-Technique/blob/main/outliers_handling.ipynb\" target=\"_parent\"><img src=\"https://colab.research.google.com/assets/colab-badge.svg\" alt=\"Open In Colab\"/></a>"
      ]
    },
    {
      "cell_type": "markdown",
      "source": [
        "HANDLING OUTLIERS"
      ],
      "metadata": {
        "id": "lNe_hRe4_NoP"
      }
    },
    {
      "cell_type": "code",
      "source": [
        "import numpy as np\n",
        "list =[32,45,67,89,56,44,78,1000,1100]"
      ],
      "metadata": {
        "id": "3pHz51rF_Uvv"
      },
      "execution_count": 3,
      "outputs": []
    },
    {
      "cell_type": "code",
      "source": [
        "np.percentile(list,[25])"
      ],
      "metadata": {
        "colab": {
          "base_uri": "https://localhost:8080/"
        },
        "id": "8ZnnBc11__TQ",
        "outputId": "57ee739e-a81f-4b5c-9815-e0e572a2f9f8"
      },
      "execution_count": 7,
      "outputs": [
        {
          "output_type": "execute_result",
          "data": {
            "text/plain": [
              "array([45.])"
            ]
          },
          "metadata": {},
          "execution_count": 7
        }
      ]
    },
    {
      "cell_type": "code",
      "source": [
        "min,Q1,Q2,Q3,max=np.quantile(list,[0,0.25,0.50,0.75,1.00])"
      ],
      "metadata": {
        "id": "S3RDqDbUA9vd"
      },
      "execution_count": 8,
      "outputs": []
    },
    {
      "cell_type": "code",
      "source": [
        "min"
      ],
      "metadata": {
        "colab": {
          "base_uri": "https://localhost:8080/"
        },
        "id": "gCb7Lbq3BOEg",
        "outputId": "d47e7b0a-4724-422c-9043-28446f81f3d7"
      },
      "execution_count": 9,
      "outputs": [
        {
          "output_type": "execute_result",
          "data": {
            "text/plain": [
              "32.0"
            ]
          },
          "metadata": {},
          "execution_count": 9
        }
      ]
    },
    {
      "cell_type": "code",
      "source": [
        "IQR=Q3-Q1\n",
        "print(IQR)"
      ],
      "metadata": {
        "colab": {
          "base_uri": "https://localhost:8080/"
        },
        "id": "ntI0yznWBX7U",
        "outputId": "89f4ead3-2a19-4c67-f7be-ea52a7f78f79"
      },
      "execution_count": 10,
      "outputs": [
        {
          "output_type": "stream",
          "name": "stdout",
          "text": [
            "44.0\n"
          ]
        }
      ]
    },
    {
      "cell_type": "code",
      "source": [
        "lower_fence=Q1-1.5*IQR\n",
        "upper_fence=Q3+1.5*IQR"
      ],
      "metadata": {
        "id": "cia-U0VlDGSO"
      },
      "execution_count": 11,
      "outputs": []
    },
    {
      "cell_type": "code",
      "source": [
        "lower_fence,upper_fence\n"
      ],
      "metadata": {
        "colab": {
          "base_uri": "https://localhost:8080/"
        },
        "id": "DnCum5P1DTn-",
        "outputId": "fc61676f-ae98-439e-826a-992e6401bf3b"
      },
      "execution_count": 12,
      "outputs": [
        {
          "output_type": "execute_result",
          "data": {
            "text/plain": [
              "(-21.0, 155.0)"
            ]
          },
          "metadata": {},
          "execution_count": 12
        }
      ]
    },
    {
      "cell_type": "code",
      "source": [
        "outliers=[]\n",
        "for i in list:\n",
        "  if i<lower_fence or i>upper_fence:\n",
        "    outliers.append(i)\n",
        "  else:\n",
        "    print(\"not outlier\")\n",
        ""
      ],
      "metadata": {
        "colab": {
          "base_uri": "https://localhost:8080/"
        },
        "id": "SMhOSEJQDbWs",
        "outputId": "08ce6d8d-52d5-4da0-b484-e5f68b9e823b"
      },
      "execution_count": 14,
      "outputs": [
        {
          "output_type": "stream",
          "name": "stdout",
          "text": [
            "not outlier\n",
            "not outlier\n",
            "not outlier\n",
            "not outlier\n",
            "not outlier\n",
            "not outlier\n",
            "not outlier\n"
          ]
        }
      ]
    },
    {
      "cell_type": "code",
      "source": [
        "outliers"
      ],
      "metadata": {
        "colab": {
          "base_uri": "https://localhost:8080/"
        },
        "id": "8dpZ7bNJD_fV",
        "outputId": "08928ab9-7ca7-4f8b-eda1-89537493f468"
      },
      "execution_count": 15,
      "outputs": [
        {
          "output_type": "execute_result",
          "data": {
            "text/plain": [
              "[1000, 1100]"
            ]
          },
          "metadata": {},
          "execution_count": 15
        }
      ]
    },
    {
      "cell_type": "code",
      "source": [
        "import seaborn as sns\n",
        "sns.boxplot(list)"
      ],
      "metadata": {
        "colab": {
          "base_uri": "https://localhost:8080/",
          "height": 428
        },
        "id": "wsEQjNIfEVzE",
        "outputId": "b1dd4ff9-bd2e-43e8-99ba-05be8965afe9"
      },
      "execution_count": 16,
      "outputs": [
        {
          "output_type": "execute_result",
          "data": {
            "text/plain": [
              "<Axes: >"
            ]
          },
          "metadata": {},
          "execution_count": 16
        },
        {
          "output_type": "display_data",
          "data": {
            "text/plain": [
              "<Figure size 640x480 with 1 Axes>"
            ],
            "image/png": "[encoded data removed]"
          },
          "metadata": {}
        }
      ]
    }
  ]
}